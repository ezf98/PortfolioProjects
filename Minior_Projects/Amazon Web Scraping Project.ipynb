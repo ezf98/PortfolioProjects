{
 "cells": [
  {
   "cell_type": "code",
   "execution_count": 12,
   "id": "6bc7740e",
   "metadata": {},
   "outputs": [],
   "source": [
    "from bs4 import BeautifulSoup\n",
    "import pandas as pd\n",
    "import smtplib\n",
    "import requests\n",
    "import time\n",
    "import datetime"
   ]
  },
  {
   "cell_type": "code",
   "execution_count": 6,
   "id": "5b8ea557",
   "metadata": {},
   "outputs": [
    {
     "name": "stdout",
     "output_type": "stream",
     "text": [
      "\n",
      "            Stephen King's The Dark Tower: Beginnings Omnibus\n",
      "           \n",
      "\n",
      "                           €69.77\n",
      "                          \n"
     ]
    }
   ],
   "source": [
    "#Connecting with Amazon\n",
    "\n",
    "URL = 'https://www.amazon.de/-/en/Stephen-King/dp/1668021137/ref=sr_1_16?adgrpid=81590221629&gclid=CjwKCAiAlp2fBhBPEiwA2Q10D1OcadEiLTiFjGxbvRMfiLs36Y-frtKUTmMCnziMarzVQ7Fzbe6dGRoCWyMQAvD_BwE&hvadid=394606429122&hvdev=c&hvlocphy=20219&hvnetw=g&hvqmt=b&hvrand=12857645107452347774&hvtargid=kwd-10678571&hydadcr=24022_1812135&keywords=stephen+king&qid=1676116746&refinements=p_n_feature_three_browse-bin%3A4192709031&rnid=4192708031&s=books&sr=1-16'\n",
    "\n",
    "headers =  {\"User-Agent\": \"Mozilla/5.0 (Windows NT 10.0; Win64; x64) AppleWebKit/537.36 (KHTML, like Gecko) Chrome/110.0.0.0 Safari/537.36\"}\n",
    "\n",
    "page = requests.get(URL, headers=headers)\n",
    "\n",
    "soup1 = BeautifulSoup(page.content, \"html.parser\")\n",
    "\n",
    "#print(soup1)\n",
    "\n",
    "soup2 = BeautifulSoup(soup1.prettify(), 'html.parser')\n",
    "\n",
    "#print(soup2)\n",
    "\n",
    "title = soup2.find(id='productTitle').get_text()\n",
    "\n",
    "print(title)\n",
    "\n",
    "price = soup2.find(id= 'price').get_text()\n",
    "\n",
    "print(price)\n",
    "\n",
    "\n"
   ]
  },
  {
   "cell_type": "code",
   "execution_count": 7,
   "id": "6be80239",
   "metadata": {},
   "outputs": [
    {
     "name": "stdout",
     "output_type": "stream",
     "text": [
      "Stephen King's The Dark Tower: Beginnings Omnibus\n",
      "69.77\n"
     ]
    }
   ],
   "source": [
    "price = price.strip()[1:]\n",
    "title = title.strip()\n",
    "\n",
    "print(title)\n",
    "print(price)"
   ]
  },
  {
   "cell_type": "code",
   "execution_count": 10,
   "id": "c75904ea",
   "metadata": {},
   "outputs": [
    {
     "name": "stdout",
     "output_type": "stream",
     "text": [
      "2023-02-11\n"
     ]
    }
   ],
   "source": [
    "today = datetime.date.today()\n",
    "\n",
    "print(today)"
   ]
  },
  {
   "cell_type": "code",
   "execution_count": 36,
   "id": "606dd3e6",
   "metadata": {},
   "outputs": [],
   "source": [
    "import csv\n",
    "\n",
    "header = ['Title', 'Price', 'Date']\n",
    "data = [title, price, today]\n",
    "\n",
    "#with open('amazon_books.csv', 'w', newline='', encoding = 'UTF8') as f:\n",
    "    #writer = csv.writer(f)\n",
    "    #writer.writerow(header)\n",
    "    #writer.writerow(data)\n"
   ]
  },
  {
   "cell_type": "code",
   "execution_count": 41,
   "id": "f5db7287",
   "metadata": {},
   "outputs": [
    {
     "name": "stdout",
     "output_type": "stream",
     "text": [
      "Empty DataFrame\n",
      "Columns: [Stephen King's The Dark Tower: Beginnings Omnibus, 71.73, 2023-02-11]\n",
      "Index: []\n"
     ]
    }
   ],
   "source": [
    "df = pd.read_csv(r'C:\\Users\\ezf98\\amazon_books.csv')\n",
    "\n",
    "print(df)"
   ]
  },
  {
   "cell_type": "code",
   "execution_count": null,
   "id": "5b070d5d",
   "metadata": {},
   "outputs": [],
   "source": [
    "with open('amazon_books.csv', 'a+', newline='', encoding = 'UTF8') as f:\n",
    "    writer = csv.writer(f)\n",
    "    writer.writerow(data)"
   ]
  },
  {
   "cell_type": "code",
   "execution_count": 42,
   "id": "927c70cc",
   "metadata": {},
   "outputs": [],
   "source": [
    "def price_check():\n",
    "    URL = 'https://www.amazon.de/-/en/Stephen-King/dp/1668021137/ref=sr_1_16?adgrpid=81590221629&gclid=CjwKCAiAlp2fBhBPEiwA2Q10D1OcadEiLTiFjGxbvRMfiLs36Y-frtKUTmMCnziMarzVQ7Fzbe6dGRoCWyMQAvD_BwE&hvadid=394606429122&hvdev=c&hvlocphy=20219&hvnetw=g&hvqmt=b&hvrand=12857645107452347774&hvtargid=kwd-10678571&hydadcr=24022_1812135&keywords=stephen+king&qid=1676116746&refinements=p_n_feature_three_browse-bin%3A4192709031&rnid=4192708031&s=books&sr=1-16'\n",
    "\n",
    "    headers =  {\"User-Agent\": \"Mozilla/5.0 (Windows NT 10.0; Win64; x64) AppleWebKit/537.36 (KHTML, like Gecko) Chrome/110.0.0.0 Safari/537.36\"}\n",
    "\n",
    "    page = requests.get(URL, headers=headers)\n",
    "\n",
    "    soup1 = BeautifulSoup(page.content, \"html.parser\")\n",
    "\n",
    "    soup2 = BeautifulSoup(soup1.prettify(), 'html.parser')\n",
    "\n",
    "    title = soup2.find(id='productTitle').get_text()\n",
    "\n",
    "    price = soup2.find(id= 'price').get_text()\n",
    "    price = price.strip()[1:]\n",
    "    title = title.strip()\n",
    "    import datetime\n",
    "    today = datetime.date.today()\n",
    "    import csv\n",
    "\n",
    "    header = ['Title', 'Price', 'Date']\n",
    "    data = [title, price, today]\n",
    "    \n",
    "    with open('amazon_books.csv', 'a+', newline='', encoding = 'UTF8') as f:\n",
    "        writer = csv.writer(f)\n",
    "        writer.writerow(data)\n",
    "    if(price < 55):\n",
    "        send_email()"
   ]
  },
  {
   "cell_type": "code",
   "execution_count": null,
   "id": "615f761c",
   "metadata": {},
   "outputs": [],
   "source": [
    "while(True):\n",
    "    price_check()\n",
    "    time.sleep(86400)"
   ]
  },
  {
   "cell_type": "code",
   "execution_count": 44,
   "id": "5606860c",
   "metadata": {},
   "outputs": [
    {
     "name": "stdout",
     "output_type": "stream",
     "text": [
      "   Stephen King's The Dark Tower: Beginnings Omnibus  71.73  2023-02-11\n",
      "0  Stephen King's The Dark Tower: Beginnings Omnibus  69.77  2023-02-11\n",
      "1  Stephen King's The Dark Tower: Beginnings Omnibus  69.77  2023-02-11\n",
      "2  Stephen King's The Dark Tower: Beginnings Omnibus  69.77  2023-02-11\n",
      "3  Stephen King's The Dark Tower: Beginnings Omnibus  69.77  2023-02-11\n",
      "4  Stephen King's The Dark Tower: Beginnings Omnibus  69.77  2023-02-11\n",
      "5  Stephen King's The Dark Tower: Beginnings Omnibus  71.73  2023-02-11\n",
      "6  Stephen King's The Dark Tower: Beginnings Omnibus  71.73  2023-02-11\n",
      "7  Stephen King's The Dark Tower: Beginnings Omnibus  71.73  2023-02-11\n",
      "8  Stephen King's The Dark Tower: Beginnings Omnibus  71.73  2023-02-11\n"
     ]
    }
   ],
   "source": [
    "df = pd.read_csv(r'C:\\Users\\ezf98\\amazon_books.csv')\n",
    "\n",
    "print(df)"
   ]
  },
  {
   "cell_type": "code",
   "execution_count": null,
   "id": "fa6dd213",
   "metadata": {},
   "outputs": [],
   "source": [
    "# In the case the price drops below 55 dolars, it would sent me an email.\n",
    "\n",
    "def send_email():\n",
    "    server = smtplib.SMTP('smtp.live.com', 587)\n",
    "    server.starttls()\n",
    "    server.login('your_hotmail_email@example.com', 'your_hotmail_password')\n",
    "    \n",
    "    subject = \"The Dark Tower's price dropped!\"\n",
    "    body = \"Emi, this is the time to add something to the Dark Tower collection, buy it here here: https://www.amazon.de/-/en/Stephen-King/dp/1668021137/ref=sr_1_16?adgrpid=81590221629&gclid=CjwKCAiAlp2fBhBPEiwA2Q10D1OcadEiLTiFjGxbvRMfiLs36Y-frtKUTmMCnziMarzVQ7Fzbe6dGRoCWyMQAvD_BwE&hvadid=394606429122&hvdev=c&hvlocphy=20219&hvnetw=g&hvqmt=b&hvrand=12857645107452347774&hvtargid=kwd-10678571&hydadcr=24022_1812135&keywords=stephen+king&qid=1676116746&refinements=p_n_feature_three_browse-bin%3A4192709031&rnid=4192708031&s=books&sr=1-16\"\n",
    "   \n",
    "    msg = f\"Subject: {subject}\\n\\n{body}\"\n",
    "    \n",
    "    server.sendmail(\n",
    "        'your_hotmail_email@example.com',\n",
    "        'recipient_email@example.com',\n",
    "        msg\n",
    "    )\n",
    "    \n",
    "    server.quit()"
   ]
  },
  {
   "cell_type": "code",
   "execution_count": null,
   "id": "b6091003",
   "metadata": {},
   "outputs": [],
   "source": []
  },
  {
   "cell_type": "code",
   "execution_count": null,
   "id": "e67a8354",
   "metadata": {},
   "outputs": [],
   "source": []
  },
  {
   "cell_type": "code",
   "execution_count": null,
   "id": "b3c4196d",
   "metadata": {},
   "outputs": [],
   "source": []
  },
  {
   "cell_type": "code",
   "execution_count": null,
   "id": "12112cbd",
   "metadata": {},
   "outputs": [],
   "source": []
  }
 ],
 "metadata": {
  "kernelspec": {
   "display_name": "Python 3 (ipykernel)",
   "language": "python",
   "name": "python3"
  },
  "language_info": {
   "codemirror_mode": {
    "name": "ipython",
    "version": 3
   },
   "file_extension": ".py",
   "mimetype": "text/x-python",
   "name": "python",
   "nbconvert_exporter": "python",
   "pygments_lexer": "ipython3",
   "version": "3.11.1"
  }
 },
 "nbformat": 4,
 "nbformat_minor": 5
}
